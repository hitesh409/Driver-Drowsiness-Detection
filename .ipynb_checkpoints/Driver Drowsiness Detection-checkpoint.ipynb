{
 "cells": [
  {
   "cell_type": "markdown",
   "metadata": {},
   "source": [
    "<h1>Driver Drowsiness Detection</h1><hr>"
   ]
  },
  {
   "cell_type": "markdown",
   "metadata": {},
   "source": [
    "## Main "
   ]
  },
  {
   "cell_type": "code",
   "execution_count": 2,
   "metadata": {},
   "outputs": [],
   "source": [
    "import os"
   ]
  },
  {
   "cell_type": "code",
   "execution_count": 3,
   "metadata": {},
   "outputs": [],
   "source": [
    "import cv2    #version 3.4.1"
   ]
  },
  {
   "cell_type": "code",
   "execution_count": 4,
   "metadata": {},
   "outputs": [],
   "source": [
    "import time"
   ]
  },
  {
   "cell_type": "code",
   "execution_count": 5,
   "metadata": {},
   "outputs": [],
   "source": [
    "import numpy as np   #version 1.18.1"
   ]
  },
  {
   "cell_type": "code",
   "execution_count": 7,
   "metadata": {},
   "outputs": [],
   "source": [
    "from keras.models import load_model  #version 2.3.1 using tensorflow as backend"
   ]
  },
  {
   "cell_type": "code",
   "execution_count": 9,
   "metadata": {},
   "outputs": [],
   "source": [
    "from pygame import mixer   #version 1.9.6"
   ]
  },
  {
   "cell_type": "code",
   "execution_count": 10,
   "metadata": {},
   "outputs": [],
   "source": [
    "mixer.init()  #initializing mixer  \n",
    "sound = mixer.Sound('Drowsiness detection/alarm.wav')  #alarm.wav file for ringing alarm"
   ]
  },
  {
   "cell_type": "code",
   "execution_count": 11,
   "metadata": {},
   "outputs": [],
   "source": [
    "face = cv2.CascadeClassifier('Drowsiness detection\\haar cascade files\\haarcascade_frontalface_alt.xml')\n",
    "leye = cv2.CascadeClassifier('Drowsiness detection\\haar cascade files\\haarcascade_lefteye_2splits.xml')\n",
    "reye = cv2.CascadeClassifier('Drowsiness detection\\haar cascade files\\haarcascade_righteye_2splits.xml')\n",
    "#these xml files are downloaded from google and used for detecting face , left eye and right eye"
   ]
  },
  {
   "cell_type": "code",
   "execution_count": 16,
   "metadata": {},
   "outputs": [],
   "source": [
    "lbl=['Closed','Open'] \n",
    "model = load_model('Drowsiness detection\\models\\myModel.h5')  #loading our model\n",
    "path = os.getcwd() #it will give the path of current working directory\n",
    "font = cv2.FONT_HERSHEY_COMPLEX_SMALL #font style for putting text on frame\n",
    "count=0\n",
    "score=0 #if score goes greater than 15 then ring the alarm\n",
    "thicc=2 #border width\n",
    "rpred=[99] #for taking class prediction of right eye\n",
    "lpred=[99] #for taking class prediction of left eye"
   ]
  },
  {
   "cell_type": "code",
   "execution_count": 19,
   "metadata": {},
   "outputs": [],
   "source": [
    "cap = cv2.VideoCapture(0) #initializing video object\n",
    "\n",
    "if not cap.isOpened():\n",
    "    print(\"Cannot open camera\")\n",
    "    exit()\n",
    "\n",
    "while(True):\n",
    "    ret, frame = cap.read() #capturing frame by frame\n",
    "    \n",
    "    # if frame is read correctly ret is True\n",
    "    if not ret:\n",
    "        print(\"Can't receive frame (stream end?). Exiting ...\")\n",
    "        break\n",
    "    \n",
    "    height,width = frame.shape[:2] #height and width of frame\n",
    "\n",
    "    gray = cv2.cvtColor(frame, cv2.COLOR_BGR2GRAY) #converting frame to gray scale\n",
    "    \n",
    "    #now we detect face , left_eye and right_eye , see dataset.ipynb for more information\n",
    "    faces = face.detectMultiScale(gray,minNeighbors=5,scaleFactor=1.1,minSize=(25,25))\n",
    "    left_eye = leye.detectMultiScale(gray)\n",
    "    right_eye =  reye.detectMultiScale(gray)\n",
    "\n",
    "    #drawing ractangle of frame size\n",
    "    cv2.rectangle(frame, (0,height-50) , (200,height) , (0,0,0) , thickness=cv2.FILLED )\n",
    "\n",
    "    for (x,y,w,h) in faces: #drawing ractangle around the face where x and y are coordinates of upper left corner, w=width, h-height\n",
    "        cv2.rectangle(frame, (x,y) , (x+w,y+h) , (100,100,100) , 1 )\n",
    "\n",
    "    for (x,y,w,h) in right_eye:\n",
    "        r_eye=frame[y:y+h,x:x+w]  #extracting right eye from frame\n",
    "        count=count+1 \n",
    "        r_eye = cv2.cvtColor(r_eye,cv2.COLOR_BGR2GRAY) #converting to gray scale\n",
    "        r_eye = cv2.resize(r_eye,(24,24)) #resizing image to (24,24) which input size for our model\n",
    "        r_eye= r_eye/255\n",
    "        r_eye=  r_eye.reshape(24,24,-1)\n",
    "        r_eye = np.expand_dims(r_eye,axis=0)\n",
    "        rpred = model.predict_classes(r_eye) #it will predict the class of the image means either eye is open or closed\n",
    "        if(rpred[0]==1): #if it gives 1 then eye is open because 1 is assigned to open (check model.ipynb)\n",
    "            lbl='Open'  #set label to open\n",
    "        if(rpred[0]==0): #if it gives 0 then eye is closed bacause 0 is assigned to closed\n",
    "            lbl='Closed' #set label to closed\n",
    "        break\n",
    "\n",
    "    for (x,y,w,h) in left_eye:\n",
    "        l_eye=frame[y:y+h,x:x+w] #rxtracting left eye from frame\n",
    "        count=count+1\n",
    "        l_eye = cv2.cvtColor(l_eye,cv2.COLOR_BGR2GRAY) #converting to gray scale\n",
    "        l_eye = cv2.resize(l_eye,(24,24)) #resizing image\n",
    "        l_eye= l_eye/255\n",
    "        l_eye=l_eye.reshape(24,24,-1)\n",
    "        l_eye = np.expand_dims(l_eye,axis=0)\n",
    "        lpred = model.predict_classes(l_eye)\n",
    "        if(lpred[0]==1): #if it gives 1 then eye is open because 1 is assigned to open (check model.ipynb)\n",
    "            lbl='Open'   #set label to open\n",
    "        if(lpred[0]==0): #if it gives 0 then eye is closed bacause 0 is assigned to closed\n",
    "            lbl='Closed' #set label to closed\n",
    "        break\n",
    "\n",
    "    if(rpred[0]==0 and lpred[0]==0): #if both eyes are closed incerement the score\n",
    "        score=score+1\n",
    "        cv2.putText(frame,\"Closed\",(10,height-20), font, 1,(255,255,255),1,cv2.LINE_AA)\n",
    "        #it will put the text closed in frame, we have given coordinated of upper left corner of block,font type,color,line type\n",
    "    # if(rpred[0]==1 or lpred[0]==1):\n",
    "    else: #if eyes are not closed decrement the score\n",
    "        score=score-1\n",
    "        cv2.putText(frame,\"Open\",(10,height-20), font, 1,(255,255,255),1,cv2.LINE_AA)\n",
    "    \n",
    "        \n",
    "    if(score<0): #restricting our score not to go less than zero\n",
    "        score=0   \n",
    "    cv2.putText(frame,'Score:'+str(score),(100,height-20), font, 1,(255,255,255),1,cv2.LINE_AA) #puting score to frame\n",
    "    if(score>15):\n",
    "        #person is feeling sleepy so we beep the alarm\n",
    "        cv2.imwrite(os.path.join(path,'image.jpg'),frame) #saving image to specified path\n",
    "        try:\n",
    "            sound.play() #playing alarm file\n",
    "            \n",
    "        except:  # isplaying = False\n",
    "            pass\n",
    "        if(thicc<16): #this is for displaying motion of borders when alarm beeps\n",
    "            thicc= thicc+2\n",
    "        else:\n",
    "            thicc=thicc-2\n",
    "            if(thicc<2):\n",
    "                thicc=2\n",
    "        cv2.rectangle(frame,(0,0),(width,height),(0,0,255),thicc) #drawing ractangle\n",
    "    cv2.imshow('frame',frame)\n",
    "    if cv2.waitKey(1) & 0xFF == ord('q'): #if q is pressed break the loop\n",
    "        break\n",
    "#release video object and distroy all the windows\n",
    "cap.release()\n",
    "cv2.destroyAllWindows()"
   ]
  },
  {
   "cell_type": "code",
   "execution_count": null,
   "metadata": {},
   "outputs": [],
   "source": []
  }
 ],
 "metadata": {
  "kernelspec": {
   "display_name": "Python 3 (ipykernel)",
   "language": "python",
   "name": "python3"
  },
  "language_info": {
   "codemirror_mode": {
    "name": "ipython",
    "version": 3
   },
   "file_extension": ".py",
   "mimetype": "text/x-python",
   "name": "python",
   "nbconvert_exporter": "python",
   "pygments_lexer": "ipython3",
   "version": "3.9.13"
  }
 },
 "nbformat": 4,
 "nbformat_minor": 2
}
